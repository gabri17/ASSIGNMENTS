{
 "cells": [
  {
   "cell_type": "markdown",
   "id": "3916ff45",
   "metadata": {},
   "source": [
    "# Poisson processes\n",
    "\n",
    "Joint distribution of Poisson arrivals when the number of arrivals is given.\n",
    "\n",
    "Time interval [0, T].\n",
    "\n",
    "We draw uniform arrivals with a unfirom distribution: so sample u1, u2, u3, ... from a Uniform Disribution.\n",
    "Consider N samples.\n",
    "\n",
    "Order them w1, w2, ..., wN.\n",
    "\n",
    "We'll show: joint distribution = joint uniform distribution of n uniform numbers in the interval.\n",
    "\n",
    "Consider N = 2 and compute the pdf f(w1, w2) = delta_w1 delta_w2 (take small intervals and compute probability a uniform random number will stay in that interval).\n",
    "\n",
    "Each of the wi corresponds to a Uniform Arrival.\n",
    "\n",
    "f(w1,...wn) = n! / t^n -> we have found the joint probability distribution of the process of uniform arrivals\n",
    "Now we need to do the opposite: check joint statistic of Poisson arrivals that's equal to n! / t^n.\n",
    "\n",
    "Find a function g(w1, ..., wn) = P[wi <= Wi <= wi + deltawi | n arrivals in [0, T]].\n",
    "It's a joint probability distribution of all Wis.\n",
    "\n",
    "In Poisson P[X = n] = probability of having n arrivals = e^(- lambda t) * (lambda t)^n / (n!)\n",
    "We have lambda t events in our unit of time [0, t]!\n",
    "\n",
    "We can prove g(w1, ..., wn) = (n!) / (t^n)\n",
    "\n",
    "To draw a given number n of poisson arrivals in [0, t] I can draw n random numbers uniformly in [0, t].\n"
   ]
  }
 ],
 "metadata": {
  "language_info": {
   "name": "python"
  }
 },
 "nbformat": 4,
 "nbformat_minor": 5
}
